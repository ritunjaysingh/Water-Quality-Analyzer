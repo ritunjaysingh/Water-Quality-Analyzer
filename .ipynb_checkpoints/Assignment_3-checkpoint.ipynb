{
 "cells": [
  {
   "cell_type": "code",
   "execution_count": 1,
   "metadata": {},
   "outputs": [],
   "source": [
    "#Written By @Rishabh Sharma Mtech CSE 167517\n",
    "\n",
    "\n",
    "#importing certian Libraries\n",
    "\n",
    "import math\n",
    "import random\n",
    "import numpy as np\n",
    "import pandas as pd\n",
    "from sklearn.datasets import load_digits\n",
    "import matplotlib.pyplot as plt"
   ]
  },
  {
   "cell_type": "code",
   "execution_count": null,
   "metadata": {
    "collapsed": true
   },
   "outputs": [],
   "source": [
    "#print(X.dtype)"
   ]
  },
  {
   "cell_type": "code",
   "execution_count": null,
   "metadata": {
    "collapsed": true
   },
   "outputs": [],
   "source": [
    "#divide data into train,validate and test as 60%,20%,20%\n",
    "Y=np.reshape(Y,(-1,1))\n",
    "m,n=X.shape\n",
    "m1,n1=Y.shape\n",
    "train_start = 0\n",
    "train_end = int(.7*m)\n",
    "test_start = int(.7*m)\n",
    "test_end = m\n",
    "\n",
    "X_train = X[train_start:train_end,:]\n",
    "Y_train = Y[train_start:train_end,:]\n",
    "\n",
    "X_test = X[test_start:test_end,:]\n",
    "Y_test = Y[test_start:test_end,:]\n",
    "\n",
    "print X.shape,Y.shape\n",
    "print X_train.shape,Y_train.shape\n",
    "print X_test.shape,Y_test.shape\n",
    "print(X.dtype)"
   ]
  },
  {
   "cell_type": "code",
   "execution_count": 55,
   "metadata": {},
   "outputs": [],
   "source": [
    "def generate_data():\n",
    "    a=np.genfromtxt('D:\\Program Files\\data.csv',  delimiter=',')\n",
    "    #print(pd.DataFrame(a))\n",
    "    X=a[:,0:5]\n",
    "    y=a[:,5]\n",
    "    for i in range(y.shape[0]):\n",
    "        y1[i]=int(y[i,0])\n",
    "    print(y1)\n",
    "    #digits = np.loadtxt('digits_data.csv', delimiter = ',')\n",
    "    #y = digits[:,0:10]\n",
    "    #digits = digits[:,10:] \n",
    "    #digits -= digits.min() \n",
    "    #digits /= digits.max() \n",
    "    images = X\n",
    "\n",
    "    out = []\n",
    "    for i in range(images.shape[0]):\n",
    "        split = list((X[i,:].tolist(), y[i].tolist())) \n",
    "        out.append(split)\n",
    "    return out"
   ]
  },
  {
   "cell_type": "code",
   "execution_count": 56,
   "metadata": {},
   "outputs": [
    {
     "ename": "IndexError",
     "evalue": "too many indices for array",
     "output_type": "error",
     "traceback": [
      "\u001b[0;31m---------------------------------------------------------------------------\u001b[0m",
      "\u001b[0;31mIndexError\u001b[0m                                Traceback (most recent call last)",
      "\u001b[0;32m<ipython-input-56-e829982287cb>\u001b[0m in \u001b[0;36m<module>\u001b[0;34m()\u001b[0m\n\u001b[1;32m     15\u001b[0m \u001b[0mc2\u001b[0m \u001b[1;33m=\u001b[0m \u001b[0mnp\u001b[0m\u001b[1;33m.\u001b[0m\u001b[0mzeros\u001b[0m\u001b[1;33m(\u001b[0m\u001b[1;33m(\u001b[0m\u001b[0mhidden_nn\u001b[0m\u001b[1;33m,\u001b[0m \u001b[0moutput_nn\u001b[0m\u001b[1;33m)\u001b[0m\u001b[1;33m)\u001b[0m\u001b[1;33m\u001b[0m\u001b[0m\n\u001b[1;32m     16\u001b[0m \u001b[1;33m\u001b[0m\u001b[0m\n\u001b[0;32m---> 17\u001b[0;31m \u001b[0mX\u001b[0m \u001b[1;33m=\u001b[0m \u001b[0mgenerate_data\u001b[0m\u001b[1;33m(\u001b[0m\u001b[1;33m)\u001b[0m\u001b[1;33m\u001b[0m\u001b[0m\n\u001b[0m\u001b[1;32m     18\u001b[0m \u001b[1;32mprint\u001b[0m\u001b[1;33m(\u001b[0m\u001b[0mlen\u001b[0m\u001b[1;33m(\u001b[0m\u001b[0mX\u001b[0m\u001b[1;33m)\u001b[0m\u001b[1;33m)\u001b[0m\u001b[1;33m\u001b[0m\u001b[0m\n",
      "\u001b[0;32m<ipython-input-55-155a78bc82f0>\u001b[0m in \u001b[0;36mgenerate_data\u001b[0;34m()\u001b[0m\n\u001b[1;32m      5\u001b[0m     \u001b[0my\u001b[0m\u001b[1;33m=\u001b[0m\u001b[0ma\u001b[0m\u001b[1;33m[\u001b[0m\u001b[1;33m:\u001b[0m\u001b[1;33m,\u001b[0m\u001b[1;36m5\u001b[0m\u001b[1;33m]\u001b[0m\u001b[1;33m\u001b[0m\u001b[0m\n\u001b[1;32m      6\u001b[0m     \u001b[1;32mfor\u001b[0m \u001b[0mi\u001b[0m \u001b[1;32min\u001b[0m \u001b[0mrange\u001b[0m\u001b[1;33m(\u001b[0m\u001b[0my\u001b[0m\u001b[1;33m.\u001b[0m\u001b[0mshape\u001b[0m\u001b[1;33m[\u001b[0m\u001b[1;36m0\u001b[0m\u001b[1;33m]\u001b[0m\u001b[1;33m)\u001b[0m\u001b[1;33m:\u001b[0m\u001b[1;33m\u001b[0m\u001b[0m\n\u001b[0;32m----> 7\u001b[0;31m         \u001b[0my1\u001b[0m\u001b[1;33m[\u001b[0m\u001b[0mi\u001b[0m\u001b[1;33m]\u001b[0m\u001b[1;33m=\u001b[0m\u001b[0mint\u001b[0m\u001b[1;33m(\u001b[0m\u001b[0my\u001b[0m\u001b[1;33m[\u001b[0m\u001b[0mi\u001b[0m\u001b[1;33m,\u001b[0m\u001b[1;36m0\u001b[0m\u001b[1;33m]\u001b[0m\u001b[1;33m)\u001b[0m\u001b[1;33m\u001b[0m\u001b[0m\n\u001b[0m\u001b[1;32m      8\u001b[0m     \u001b[1;32mprint\u001b[0m\u001b[1;33m(\u001b[0m\u001b[0my1\u001b[0m\u001b[1;33m)\u001b[0m\u001b[1;33m\u001b[0m\u001b[0m\n\u001b[1;32m      9\u001b[0m     \u001b[1;31m#digits = np.loadtxt('digits_data.csv', delimiter = ',')\u001b[0m\u001b[1;33m\u001b[0m\u001b[1;33m\u001b[0m\u001b[0m\n",
      "\u001b[0;31mIndexError\u001b[0m: too many indices for array"
     ]
    }
   ],
   "source": [
    "input_nn = 5\n",
    "hidden_nn = 20\n",
    "output_nn = 3\n",
    "\n",
    "iin = np.ones(input_nn)\n",
    "zin = np.ones(hidden_nn)\n",
    "yin = np.ones(output_nn)\n",
    "\n",
    "input_range = 1.0 / input_nn ** (1/2)\n",
    "output_range = 1.0 / hidden_nn ** (1/2)\n",
    "w1 = np.random.normal(loc = 0, scale = input_range, size = (input_nn, hidden_nn))\n",
    "w2 = np.random.normal(loc = 0, scale = output_range, size = (hidden_nn, output_nn))\n",
    "        \n",
    "c1 = np.zeros((input_nn, hidden_nn))\n",
    "c2 = np.zeros((hidden_nn, output_nn))\n",
    "\n",
    "X = generate_data()\n",
    "print(len(X))"
   ]
  },
  {
   "cell_type": "code",
   "execution_count": 17,
   "metadata": {},
   "outputs": [],
   "source": [
    " def Validation(images):\n",
    "    c = 0\n",
    "    for p in images:\n",
    "        inputs = p[0]\n",
    "        for k in range(input_nn - 1):\n",
    "            iin[k] = inputs[k] \n",
    "\n",
    "        for j in range(hidden_nn):\n",
    "            sum = 0.0\n",
    "            for k in range(input_nn):\n",
    "                sum += iin[k] * w1[k][j]\n",
    "            zin[j] = 1 / (1 + np.exp(-sum))\n",
    "\n",
    "        for k in range(output_nn):\n",
    "            sum = 0.0\n",
    "            for j in range(hidden_nn):\n",
    "                sum += zin[j] * w2[j][k]\n",
    "            yin[k] = 1 / (1 + np.exp(-sum))\n",
    "\n",
    "        m = max(yin)\n",
    "        n = max(p[1])\n",
    "\n",
    "        ind1 = list(yin).index(m)\n",
    "        ind2 = p[1].index(n)\n",
    "        if ind1==ind2:\n",
    "            c= c + 1\n",
    "\n",
    "    print(\"Images classified: %d\"%c)\n",
    "    return c"
   ]
  },
  {
   "cell_type": "code",
   "execution_count": 39,
   "metadata": {},
   "outputs": [],
   "source": [
    "def train( images,iterations,learning_rate):\n",
    "    for i in range(iterations):\n",
    "        error = 0.0\n",
    "        for p in images:\n",
    "            inputs = p[0]\n",
    "            targets = p[1]\n",
    "            \n",
    "            #forward propagation\n",
    "            for k in range(input_nn - 1):\n",
    "                iin[k] = inputs[k] \n",
    "\n",
    "            for j in range(hidden_nn):\n",
    "                sum = 0.0\n",
    "                for k in range(input_nn):\n",
    "                    sum += iin[k] * w1[k][j]\n",
    "                zin[j] = 1 / (1 + np.exp(-sum))\n",
    "\n",
    "            for k in range(output_nn):\n",
    "                sum = 0.0\n",
    "                for j in range(hidden_nn):\n",
    "                    sum += zin[j] * w2[j][k]\n",
    "                yin[k] = 1 / (1 + np.exp(-sum))\n",
    "            \n",
    "            \n",
    "            #back propagation \n",
    "            output_deltas = np.zeros(output_nn)\n",
    "            for k in range(output_nn):\n",
    "                local_error = -(targets[k] - yin[k])\n",
    "                output_deltas[k] = (yin[k])*(1-yin[k]) * local_error\n",
    "\n",
    "            hidden_deltas = np.zeros(hidden_nn)\n",
    "            for j in range(hidden_nn):\n",
    "                local_error = 0.0\n",
    "                for k in range(output_nn):\n",
    "                    local_error += output_deltas[k] * w2[j][k]\n",
    "                hidden_deltas[j] = (1-zin[j])* zin[j]* local_error\n",
    "\n",
    "            #update weight\n",
    "            for j in range(hidden_nn):\n",
    "                for k in range(output_nn):\n",
    "                    change = output_deltas[k] *zin[j]\n",
    "                    a1 = c2[j][k]\n",
    "                    w2[j][k] -= learning_rate * change + a1 \n",
    "                    c2[j][k] = change\n",
    "\n",
    "            \n",
    "            for i in range(input_nn):\n",
    "                for j in range(hidden_nn):\n",
    "                    change = hidden_deltas[j] * iin[i]\n",
    "                    w1[i][j] -= learning_rate * change + c1[i][j] \n",
    "                    c1[i][j] = change\n",
    "\n",
    "            for k in range(len(targets)):\n",
    "                error += 0.5 * (targets[k] - yin[k]) ** 2\n",
    "            \n",
    "\n",
    "        print(\"total error : %f \" % error)"
   ]
  },
  {
   "cell_type": "code",
   "execution_count": 40,
   "metadata": {},
   "outputs": [],
   "source": [
    "def prediction(X):\n",
    "       \n",
    "    pred = []\n",
    "    for p in X:\n",
    "        inputs = p\n",
    "        for k in range(input_nn - 1):\n",
    "            iin[k] = inputs[k] \n",
    "\n",
    "        for j in range(hidden_nn):\n",
    "            sum = 0.0\n",
    "            for k in range(input_nn):\n",
    "                sum += iin[k] * w1[k][j]\n",
    "            zin[j] = 1 / (1 + np.exp(-sum))\n",
    "\n",
    "        for k in range(output_nn):\n",
    "            sum = 0.0\n",
    "            for j in range(hidden_nn):\n",
    "                sum += zin[j] * w2[j][k]\n",
    "            yin[k] = 1 / (1 + np.exp(-sum))\n",
    "\n",
    "        pred.append(yin)\n",
    "    return pred"
   ]
  },
  {
   "cell_type": "code",
   "execution_count": 41,
   "metadata": {},
   "outputs": [],
   "source": [
    "\n",
    "def build_model():\n",
    "    iteration = [] \n",
    "    accuracy = []\n",
    "    alpha = 0.2\n",
    "    epoch = 5\n",
    "    \n",
    "    for i in range(0,epoch):\n",
    "        iteration.append(i)\n",
    "        train(X,1,0.3)\n",
    "        out1 = Validation(X)\n",
    "        accuracy.append(out1)\n",
    "    plt.plot(iteration,accuracy)\n",
    "    plt.xlabel(\"Iteration\")\n",
    "    plt.ylabel(\"Accuracy\")\n",
    "    plt.title(\"Neural network performance\")\n",
    "    plt.show()\n"
   ]
  },
  {
   "cell_type": "code",
   "execution_count": 43,
   "metadata": {},
   "outputs": [
    {
     "ename": "NameError",
     "evalue": "global name 'target' is not defined",
     "output_type": "error",
     "traceback": [
      "\u001b[0;31m---------------------------------------------------------------------------\u001b[0m",
      "\u001b[0;31mNameError\u001b[0m                                 Traceback (most recent call last)",
      "\u001b[0;32m<ipython-input-43-7793873c5c17>\u001b[0m in \u001b[0;36m<module>\u001b[0;34m()\u001b[0m\n\u001b[0;32m----> 1\u001b[0;31m \u001b[0mbuild_model\u001b[0m\u001b[1;33m(\u001b[0m\u001b[1;33m)\u001b[0m\u001b[1;33m\u001b[0m\u001b[0m\n\u001b[0m",
      "\u001b[0;32m<ipython-input-41-a24b7eecf509>\u001b[0m in \u001b[0;36mbuild_model\u001b[0;34m()\u001b[0m\n\u001b[1;32m      8\u001b[0m     \u001b[1;32mfor\u001b[0m \u001b[0mi\u001b[0m \u001b[1;32min\u001b[0m \u001b[0mrange\u001b[0m\u001b[1;33m(\u001b[0m\u001b[1;36m0\u001b[0m\u001b[1;33m,\u001b[0m\u001b[0mepoch\u001b[0m\u001b[1;33m)\u001b[0m\u001b[1;33m:\u001b[0m\u001b[1;33m\u001b[0m\u001b[0m\n\u001b[1;32m      9\u001b[0m         \u001b[0miteration\u001b[0m\u001b[1;33m.\u001b[0m\u001b[0mappend\u001b[0m\u001b[1;33m(\u001b[0m\u001b[0mi\u001b[0m\u001b[1;33m)\u001b[0m\u001b[1;33m\u001b[0m\u001b[0m\n\u001b[0;32m---> 10\u001b[0;31m         \u001b[0mtrain\u001b[0m\u001b[1;33m(\u001b[0m\u001b[0mX\u001b[0m\u001b[1;33m,\u001b[0m\u001b[1;36m1\u001b[0m\u001b[1;33m,\u001b[0m\u001b[1;36m0.3\u001b[0m\u001b[1;33m)\u001b[0m\u001b[1;33m\u001b[0m\u001b[0m\n\u001b[0m\u001b[1;32m     11\u001b[0m         \u001b[0mout1\u001b[0m \u001b[1;33m=\u001b[0m \u001b[0mValidation\u001b[0m\u001b[1;33m(\u001b[0m\u001b[0mX\u001b[0m\u001b[1;33m)\u001b[0m\u001b[1;33m\u001b[0m\u001b[0m\n\u001b[1;32m     12\u001b[0m         \u001b[0maccuracy\u001b[0m\u001b[1;33m.\u001b[0m\u001b[0mappend\u001b[0m\u001b[1;33m(\u001b[0m\u001b[0mout1\u001b[0m\u001b[1;33m)\u001b[0m\u001b[1;33m\u001b[0m\u001b[0m\n",
      "\u001b[0;32m<ipython-input-39-d02681cf9873>\u001b[0m in \u001b[0;36mtrain\u001b[0;34m(images, iterations, learning_rate)\u001b[0m\n\u001b[1;32m      5\u001b[0m             \u001b[0minputs\u001b[0m \u001b[1;33m=\u001b[0m \u001b[0mp\u001b[0m\u001b[1;33m[\u001b[0m\u001b[1;36m0\u001b[0m\u001b[1;33m]\u001b[0m\u001b[1;33m\u001b[0m\u001b[0m\n\u001b[1;32m      6\u001b[0m             \u001b[0mtargets\u001b[0m \u001b[1;33m=\u001b[0m \u001b[0mp\u001b[0m\u001b[1;33m[\u001b[0m\u001b[1;36m1\u001b[0m\u001b[1;33m]\u001b[0m\u001b[1;33m\u001b[0m\u001b[0m\n\u001b[0;32m----> 7\u001b[0;31m             \u001b[1;32mprint\u001b[0m\u001b[1;33m(\u001b[0m\u001b[0mtarget\u001b[0m\u001b[1;33m)\u001b[0m\u001b[1;33m\u001b[0m\u001b[0m\n\u001b[0m\u001b[1;32m      8\u001b[0m             \u001b[1;31m#forward propagation\u001b[0m\u001b[1;33m\u001b[0m\u001b[1;33m\u001b[0m\u001b[0m\n\u001b[1;32m      9\u001b[0m             \u001b[1;32mfor\u001b[0m \u001b[0mk\u001b[0m \u001b[1;32min\u001b[0m \u001b[0mrange\u001b[0m\u001b[1;33m(\u001b[0m\u001b[0minput_nn\u001b[0m \u001b[1;33m-\u001b[0m \u001b[1;36m1\u001b[0m\u001b[1;33m)\u001b[0m\u001b[1;33m:\u001b[0m\u001b[1;33m\u001b[0m\u001b[0m\n",
      "\u001b[0;31mNameError\u001b[0m: global name 'target' is not defined"
     ]
    }
   ],
   "source": [
    "build_model()"
   ]
  },
  {
   "cell_type": "code",
   "execution_count": null,
   "metadata": {},
   "outputs": [],
   "source": []
  },
  {
   "cell_type": "code",
   "execution_count": null,
   "metadata": {},
   "outputs": [],
   "source": []
  }
 ],
 "metadata": {
  "anaconda-cloud": {},
  "kernelspec": {
   "display_name": "Python 3",
   "language": "python",
   "name": "python3"
  },
  "language_info": {
   "codemirror_mode": {
    "name": "ipython",
    "version": 3
   },
   "file_extension": ".py",
   "mimetype": "text/x-python",
   "name": "python",
   "nbconvert_exporter": "python",
   "pygments_lexer": "ipython3",
   "version": "3.6.4"
  }
 },
 "nbformat": 4,
 "nbformat_minor": 1
}
